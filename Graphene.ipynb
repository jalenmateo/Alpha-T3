{
 "cells": [
  {
   "cell_type": "code",
   "execution_count": 2,
   "id": "85ccbce3",
   "metadata": {},
   "outputs": [
    {
     "data": {
      "text/plain": [
       "H (generic function with 3 methods)"
      ]
     },
     "execution_count": 2,
     "metadata": {},
     "output_type": "execute_result"
    }
   ],
   "source": [
    "#Graphene\n",
    "using Plots\n",
    "using LinearAlgebra\n",
    "gr()\n",
    "# Pauli Matrices\n",
    "σx=[[0 1]\n",
    "    [1 0]]\n",
    "σy=[[0 -im]\n",
    "    [im 0]]\n",
    "σz=[[1 0]\n",
    "    [0 -1]]\n",
    "# Functions\n",
    "Rx(kx, ky, t=1, a=1) = cos(ky*a) + 2*cos(ky*a/2)*cos(kx*a*sqrt(3)/2)\n",
    "Ry(kx, ky, t=1, a=1) = sin(ky*a) - 2*(sin(ky*a/2)*cos(kx*a*sqrt(3)/2))\n",
    "\n",
    "R(kx, ky=0, t=1, a=1)=sqrt(Rx(kx, ky, t, a)^2+Ry(kx, ky, t, a)^2) #EIGENVALUE#\n",
    "P(kx, ky=0, t=1, a=1)=-sqrt(Rx(kx, ky, t, a)^2+Ry(kx, ky, t, a)^2) #EIGENVALUE#\n",
    "\n",
    "H(kx, ky, t=1, a=1)=Rx(kx, ky, t, a)*σx+Ry(kx, ky, t, a)*σy #Hamiltonian kernel#\n",
    "# domain we will calculate on\n"
   ]
  },
  {
   "cell_type": "code",
   "execution_count": null,
   "id": "e2b422ab",
   "metadata": {},
   "outputs": [],
   "source": [
    "# fk(kx, ky, t=1, a=1) = t*(cos(ky*a) + 2*cos(ky*a/2)*cos(kx*a*sqrt(3)/2) + im*(sin(ky*a) - 2*(sin(ky*a/2)*cos(kx*a*sqrt(3)/2))))\n",
    "# fkd(kx,ky) = conj(fk(kx,ky))\n",
    "f(kx, ky, t=1, a=1) = t*(exp(im*ky*a) + exp(im*sqrt(3)/2*kx)*exp(-im*ky*a/2) + exp(-im*sqrt(3)/2*kx)*exp(-im*ky*a/2)) \n",
    "fd(kx,ky) = conj(f(kx,ky))\n",
    "\n",
    "H(kx,ky) = [0 f(kx,ky);fd(kx,ky) 0]\n",
    "qx=qy=[i for i in range(-pi,pi,1000)]\n",
    "\n",
    "function geteigen(ky,i,kx=4*pi/3/sqrt(3))\n",
    "    F = eigen(H(kx,ky))\n",
    "    gg = F.values\n",
    "    qq = sort(real(gg))\n",
    "\n",
    "    return qq[i]\n",
    "end\n",
    "plot(qx,geteigen.(qx,1))\n",
    "plot!(qx,geteigen.(qx,2))"
   ]
  },
  {
   "cell_type": "code",
   "execution_count": null,
   "id": "1614f0a8",
   "metadata": {},
   "outputs": [],
   "source": [
    "# Parameters chosen to look at\n",
    "# kx = [-2,-1.5,-1,-0.5,0,0.5,1.5,2]\n",
    "# ky = [-2,-1.5,-1,-0.5,0,0.5,1.5,2]\n",
    "kx=ky=[i for i in range(-pi,pi,1000)]\n",
    "T = [1]\n",
    "#Calculatin eigenvalues:\n",
    "# plot()\n",
    "# for i in 1:length(kx)\n",
    "#     for j in 1:length(ky)\n",
    "#         plot!(kx[i],ky[j],R(kx[i],kx[j]))\n",
    "#     end\n",
    "# end\n",
    "plot(kx,P, xlabel = \"kx\", ylabel = \"ky\", zlabel = \"E\")\n",
    "plot!(kx,R)\n",
    "# surface(kx,ky,P)\n",
    "# surface!(kx,ky,R)"
   ]
  },
  {
   "cell_type": "code",
   "execution_count": null,
   "id": "8512c1d1",
   "metadata": {},
   "outputs": [],
   "source": [
    "using Plots; \n",
    "p = plot(kx, ky, R, st = [:contourf])"
   ]
  },
  {
   "cell_type": "code",
   "execution_count": null,
   "id": "13f384b4",
   "metadata": {},
   "outputs": [],
   "source": [
    "kx=ky=[i for i in range(-3,3,100)]\n",
    "T = [0.1,0.5,1]\n",
    "plot()\n",
    "for j in 1:length(T)\n",
    "#     print(T[j])\n",
    "    for ii in 1:length(kx)\n",
    "#         print(kx[ii])\n",
    "        plot!(kx,R.(kx,-2.4, T[j], 1),legend = false)\n",
    "        plot!(kx,-R.(kx,-2.4, T[j], 1),label=\"\", legend = false)\n",
    "    end\n",
    "end\n",
    "plot!(title=\"Graphene Band Diagram\",\n",
    "xlabel=\"Momentum\",ylabel=\"Energy\")\n",
    "# display(R.(ks,va[3],wa[3]))\n",
    "# display(va)"
   ]
  }
 ],
 "metadata": {
  "kernelspec": {
   "display_name": "Julia 1.8.2",
   "language": "julia",
   "name": "julia-1.8"
  },
  "language_info": {
   "file_extension": ".jl",
   "mimetype": "application/julia",
   "name": "julia",
   "version": "1.8.2"
  }
 },
 "nbformat": 4,
 "nbformat_minor": 5
}
